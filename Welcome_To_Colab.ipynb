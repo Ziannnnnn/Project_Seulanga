{
  "cells": [
    {
      "cell_type": "markdown",
      "metadata": {
        "id": "view-in-github",
        "colab_type": "text"
      },
      "source": [
        "<a href=\"https://colab.research.google.com/github/Ziannnnnn/Project_Seulanga/blob/main/Welcome_To_Colab.ipynb\" target=\"_parent\"><img src=\"https://colab.research.google.com/assets/colab-badge.svg\" alt=\"Open In Colab\"/></a>"
      ]
    },
    {
      "cell_type": "code",
      "execution_count": 1,
      "metadata": {
        "id": "zwFnJsE6vjf8",
        "outputId": "892c940a-b131-4cae-fe5a-e3b7ec176623",
        "colab": {
          "base_uri": "https://localhost:8080/"
        }
      },
      "outputs": [
        {
          "output_type": "stream",
          "name": "stdout",
          "text": [
            "Mobil: Toyota Corolla\n",
            "Buddy si Anjing berbunyi Guk!\n",
            "Buku: '1984' oleh George Orwell\n",
            "Siswa: Alice, Nilai: A\n",
            "Memanggil 123-456-7890 dari Samsung Galaxy S21\n"
          ]
        }
      ],
      "source": [
        "class Mobil:\n",
        "    def __init__(self, merek, model):\n",
        "        self.merek = merek\n",
        "        self.model = model\n",
        "\n",
        "    def tampilkan_info(self):\n",
        "        return f\"Mobil: {self.merek} {self.model}\"\n",
        "\n",
        "mobil1 = Mobil(\"Toyota\", \"Corolla\")\n",
        "print(mobil1.tampilkan_info())"
      ]
    },
    {
      "cell_type": "code",
      "source": [
        "class Siswa:\n",
        "    def __init__(self, nama, nilai):\n",
        "        self.nama = nama\n",
        "        self.nilai = nilai\n",
        "\n",
        "    def detail(self):\n",
        "        return f\"Siswa: {self.nama}, Nilai: {self.nilai}\"\n",
        "\n",
        "siswa1 = Siswa(\"Alice\", \"A\")\n",
        "print(siswa1.detail())"
      ],
      "metadata": {
        "id": "hZjeGXvkcvvE"
      },
      "execution_count": null,
      "outputs": []
    },
    {
      "cell_type": "code",
      "source": [
        "class Buku:\n",
        "    def __init__(self, judul, penulis):\n",
        "        self.judul = judul\n",
        "        self.penulis = penulis\n",
        "\n",
        "    def deskripsi(self):\n",
        "        return f\"Buku: '{self.judul}' oleh {self.penulis}\"\n",
        "\n",
        "buku1 = Buku(\"1984\", \"George Orwell\")\n",
        "print(buku1.deskripsi())\n"
      ],
      "metadata": {
        "id": "f2nLnXq5cwGs"
      },
      "execution_count": null,
      "outputs": []
    },
    {
      "cell_type": "code",
      "source": [
        "class Hewan:\n",
        "    def __init__(self, nama, spesies):\n",
        "        self.nama = nama\n",
        "        self.spesies = spesies\n",
        "\n",
        "    def buat_suara(self, suara):\n",
        "        return f\"{self.nama} si {self.spesies} berbunyi {suara}\"\n",
        "\n",
        "hewan1 = Hewan(\"Buddy\", \"Anjing\")\n",
        "print(hewan1.buat_suara(\"Guk!\"))"
      ],
      "metadata": {
        "id": "riS0xqy8cwNM"
      },
      "execution_count": null,
      "outputs": []
    },
    {
      "cell_type": "code",
      "source": [
        "class Telepon:\n",
        "    def __init__(self, merek, model):\n",
        "        self.merek = merek\n",
        "        self.model = model\n",
        "\n",
        "    def panggil(self, nomor):\n",
        "        return f\"Memanggil {nomor} dari {self.merek} {self.model}\"\n",
        "\n",
        "telepon1 = Telepon(\"Samsung\", \"Galaxy S21\")\n",
        "print(telepon1.panggil(\"123-456-7890\"))\n"
      ],
      "metadata": {
        "id": "TSMmg2zUcwpk"
      },
      "execution_count": null,
      "outputs": []
    }
  ],
  "metadata": {
    "colab": {
      "name": "Welcome To Colab",
      "toc_visible": true,
      "provenance": [],
      "include_colab_link": true
    },
    "kernelspec": {
      "display_name": "Python 3",
      "name": "python3"
    }
  },
  "nbformat": 4,
  "nbformat_minor": 0
}